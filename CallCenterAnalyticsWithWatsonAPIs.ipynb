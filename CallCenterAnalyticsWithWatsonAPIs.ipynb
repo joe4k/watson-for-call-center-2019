{
    "nbformat_minor": 1, 
    "cells": [
        {
            "source": "## Watson Call Center Analytics Lab\n\nThis document provides guidance and background for a hands-on Python + IBM Watson focusing on running Watson APIs on audio files (which represent Call Center audio recordings) to extract useful information and create call center analytics dashboards. \n\n\n### Why is this useful?\nEnterprises spend more than $1 trillion on 250 billion customer service calls each year.  By using multiple IBM Watson \"signal services\" to extract signal from raw audio data; perform data analytics, clustering, unsupervised and machine learning, and visualizations, technical teams can use data understand patterns in call centers. KPI and ROI positive.\n\n### What is the process? And what Watson services are used?\n- Step 1 - Speech to Text (STT) \u2013 Converts Raw Audio to Transcripts; \n- Step 2 - Natural Language Understanding (NLU) - extracts features concepts, entities, keywords, categories/topics, sentiment and emotion; \n- Step 3 - Tone Analyzer (Tone) \u2013 uses linguistic analysis to detect emotional and language tones in written text; \n- Step 4 - Call Center Analytics \u2013 analyzes and visualizes the data signal to allow for interpretation of data and in cases, actionable insights; \n\n\n### Beginner Audience & Focus on Basics\n- This is a beginner lab intended to educate on the fundamentals of getting from data to insights with IBM Watson and open source tools \n- Audience may include IT and operations teams curious about enriching unstructured data \u2013 the lab is NOT intended for sophisticated call center technologists \n- Lab/code does NOT purport to compete with expensive and sophisticated solutions already in market \n- The lab and code cover the basics \u2013 to educate on the fundamental plumbing and steps, to provide base for instrumentation \n\n### Success Metrics\nIf successful \u2013 the lab participants or notebook users will\n1.\tGain experience in using an IPython / Jupyter notebook\nhttps://ipython.org/notebook.html\n2.\tConnect to four Watson Developer Cloud \u2018signal service\u2019 APIs \nhttps://www.ibm.com/watson/developer/ \n3.\tConnect to IBM Cloud Object storage for data read and write \nhttps://www.ibm.com/cloud/object-storage \n\n\n", 
            "cell_type": "markdown", 
            "metadata": {}
        }, 
        {
            "source": "## Step 1 \u2013 Speech to Text (STT)\n## Install Python Dependencies\n\nPython\u2019s standard library is very extensive, offering a wide range of facilities.  It contains built-in modules like JSON a lightweight data interchange format.  https://docs.python.org/2/library/index.html and https://docs.python.org/2/library/json.html\n\nIBM Watson has a Python client library to quickly get started with the various Watson APIs services.\nhttps://pypi.python.org/pypi/watson-developer-cloud\n\nUsing Python with IBM COS: Python support is provided through the Boto 3 library. The boto3 library provides complete access and can source credentials. The IBM COS endpoint must be specified when creating a service resource or low-level client as shown in documentation\nhttps://ibm-public-cos.github.io/crs-docs/python\n", 
            "cell_type": "markdown", 
            "metadata": {}
        }, 
        {
            "execution_count": 2, 
            "cell_type": "code", 
            "metadata": {}, 
            "outputs": [
                {
                    "output_type": "stream", 
                    "name": "stdout", 
                    "text": "Requirement already satisfied: ibm_watson in /opt/conda/envs/Python36/lib/python3.6/site-packages (3.2.0)\nRequirement already satisfied: requests<3.0,>=2.0 in /opt/conda/envs/Python36/lib/python3.6/site-packages (from ibm_watson) (2.21.0)\nRequirement already satisfied: python-dateutil>=2.5.3 in /opt/conda/envs/Python36/lib/python3.6/site-packages (from ibm_watson) (2.7.5)\nRequirement already satisfied: websocket-client==0.48.0 in /opt/conda/envs/Python36/lib/python3.6/site-packages (from ibm_watson) (0.48.0)\nRequirement already satisfied: ibm-cloud-sdk-core>=0.5.1 in /opt/conda/envs/Python36/lib/python3.6/site-packages (from ibm_watson) (0.5.1)\nRequirement already satisfied: certifi>=2017.4.17 in /opt/conda/envs/Python36/lib/python3.6/site-packages (from requests<3.0,>=2.0->ibm_watson) (2019.6.16)\nRequirement already satisfied: urllib3<1.25,>=1.21.1 in /opt/conda/envs/Python36/lib/python3.6/site-packages (from requests<3.0,>=2.0->ibm_watson) (1.24.1)\nRequirement already satisfied: chardet<3.1.0,>=3.0.2 in /opt/conda/envs/Python36/lib/python3.6/site-packages (from requests<3.0,>=2.0->ibm_watson) (3.0.4)\nRequirement already satisfied: idna<2.9,>=2.5 in /opt/conda/envs/Python36/lib/python3.6/site-packages (from requests<3.0,>=2.0->ibm_watson) (2.8)\nRequirement already satisfied: six>=1.5 in /opt/conda/envs/Python36/lib/python3.6/site-packages (from python-dateutil>=2.5.3->ibm_watson) (1.12.0)\nRequirement already satisfied: PyJWT>=1.7.1 in /opt/conda/envs/Python36/lib/python3.6/site-packages (from ibm-cloud-sdk-core>=0.5.1->ibm_watson) (1.7.1)\nCollecting wordcloud\n  Using cached https://files.pythonhosted.org/packages/ae/af/849edf14d573eba9c8082db898ff0d090428d9485371cc4fe21a66717ad2/wordcloud-1.5.0-cp36-cp36m-manylinux1_x86_64.whl\nCollecting numpy>=1.6.1 (from wordcloud)\n  Using cached https://files.pythonhosted.org/packages/19/b9/bda9781f0a74b90ebd2e046fde1196182900bd4a8e1ea503d3ffebc50e7c/numpy-1.17.0-cp36-cp36m-manylinux1_x86_64.whl\nCollecting pillow (from wordcloud)\n  Using cached https://files.pythonhosted.org/packages/14/41/db6dec65ddbc176a59b89485e8cc136a433ed9c6397b6bfe2cd38412051e/Pillow-6.1.0-cp36-cp36m-manylinux1_x86_64.whl\n\u001b[31mERROR: tensorflow 1.13.1 requires tensorboard<1.14.0,>=1.13.0, which is not installed.\u001b[0m\nInstalling collected packages: numpy, pillow, wordcloud\n  Found existing installation: numpy 1.17.0\n    Uninstalling numpy-1.17.0:\n      Successfully uninstalled numpy-1.17.0\n  Found existing installation: Pillow 6.1.0\n    Uninstalling Pillow-6.1.0:\n      Successfully uninstalled Pillow-6.1.0\n  Found existing installation: wordcloud 1.5.0\n    Uninstalling wordcloud-1.5.0:\n      Successfully uninstalled wordcloud-1.5.0\nSuccessfully installed numpy-1.17.0 pillow-6.1.0 wordcloud-1.5.0\nRequirement already up-to-date: pixiedust in /opt/conda/envs/Python36/lib/python3.6/site-packages (1.1.17)\nRequirement already satisfied, skipping upgrade: geojson in /opt/conda/envs/Python36/lib/python3.6/site-packages (from pixiedust) (2.4.1)\nRequirement already satisfied, skipping upgrade: mpld3 in /opt/conda/envs/Python36/lib/python3.6/site-packages (from pixiedust) (0.3)\nRequirement already satisfied, skipping upgrade: colour in /opt/conda/envs/Python36/lib/python3.6/site-packages (from pixiedust) (0.1.5)\nRequirement already satisfied, skipping upgrade: requests in /opt/conda/envs/Python36/lib/python3.6/site-packages (from pixiedust) (2.21.0)\nRequirement already satisfied, skipping upgrade: markdown in /opt/conda/envs/Python36/lib/python3.6/site-packages (from pixiedust) (3.0.1)\nRequirement already satisfied, skipping upgrade: lxml in /opt/conda/envs/Python36/lib/python3.6/site-packages (from pixiedust) (4.3.1)\nRequirement already satisfied, skipping upgrade: astunparse in /opt/conda/envs/Python36/lib/python3.6/site-packages (from pixiedust) (1.6.2)\nRequirement already satisfied, skipping upgrade: urllib3<1.25,>=1.21.1 in /opt/conda/envs/Python36/lib/python3.6/site-packages (from requests->pixiedust) (1.24.1)\nRequirement already satisfied, skipping upgrade: certifi>=2017.4.17 in /opt/conda/envs/Python36/lib/python3.6/site-packages (from requests->pixiedust) (2019.6.16)\nRequirement already satisfied, skipping upgrade: idna<2.9,>=2.5 in /opt/conda/envs/Python36/lib/python3.6/site-packages (from requests->pixiedust) (2.8)\nRequirement already satisfied, skipping upgrade: chardet<3.1.0,>=3.0.2 in /opt/conda/envs/Python36/lib/python3.6/site-packages (from requests->pixiedust) (3.0.4)\nRequirement already satisfied, skipping upgrade: six<2.0,>=1.6.1 in /opt/conda/envs/Python36/lib/python3.6/site-packages (from astunparse->pixiedust) (1.12.0)\nRequirement already satisfied, skipping upgrade: wheel<1.0,>=0.23.0 in /opt/conda/envs/Python36/lib/python3.6/site-packages (from astunparse->pixiedust) (0.32.3)\nRequirement already satisfied: pyspark in /opt/conda/envs/Python36/lib/python3.6/site-packages (2.4.3)\nRequirement already satisfied: py4j==0.10.7 in /opt/conda/envs/Python36/lib/python3.6/site-packages (from pyspark) (0.10.7)\n"
                }
            ], 
            "source": "#!pip install watson_developer_cloud\n!pip install ibm_watson\n!pip install --upgrade --force-reinstall wordcloud\n!pip install --user --upgrade pixiedust\n!pip install pyspark"
        }, 
        {
            "execution_count": 3, 
            "cell_type": "code", 
            "metadata": {}, 
            "outputs": [], 
            "source": "#imports.... Run this each time after restarting the Kernel\n\n#import watson_developer_cloud as watson\n\nimport json\nfrom botocore.client import Config\nimport ibm_boto3\nimport requests\nfrom urllib.request import urlopen \n\nimport io\nfrom os.path import join, dirname\n"
        }, 
        {
            "source": "## Accessig Same Audio Files\nFor purposes of this lab, we will use a number of sample audio files which are hosted on github. Download these files from github and then upload them to your Watson Studio project. Lastly, access these files in code by using the **Insert to code** functionality.\n\n- Download the zip file from https://github.com/joe4k/watson-for-call-center-2019/blob/master/resource_files.tar.gz\n- Unzip the downloaded file to get the different sample audio files (you should have 6 .ogg files)\n- Upload the files to your Watson Studio project by clicking the **Find and Add Data** icon (top right) and either dropping the files directly or browsing to select and upload the files.\n\nAfter upload the files to your Watson Studio project (they get uploaded to the Cloud Object Storage instance associated with your Watson Studio project), click in the next cell and then select the file **sample1-addresschange-positive.ogg** file and click **Insert to code** and then **Insert Credentials**. The credentials should look like the following:\n```\ncredentials_1 = {\n    'IAM_SERVICE_ID': '#####',\n    'IBM_API_KEY_ID': '#####',\n    'ENDPOINT': '####',\n    'IBM_AUTH_ENDPOINT': '####',\n    'BUCKET': '####',\n    'FILE': '####'\n}\n```", 
            "cell_type": "markdown", 
            "metadata": {}
        }, 
        {
            "execution_count": 4, 
            "cell_type": "code", 
            "metadata": {}, 
            "outputs": [], 
            "source": "# The code was removed by Watson Studio for sharing."
        }, 
        {
            "source": "## Setup COS Client\nIn the next cell, define the Cloud Object Storage python client to access the files in your COS instance.", 
            "cell_type": "markdown", 
            "metadata": {}
        }, 
        {
            "execution_count": 5, 
            "cell_type": "code", 
            "metadata": {}, 
            "outputs": [], 
            "source": "cos_client = ibm_boto3.client(service_name='s3',\n                              ibm_api_key_id=credentials_1['IBM_API_KEY_ID'],\n                              ibm_auth_endpoint=credentials_1['IBM_AUTH_ENDPOINT'],\n                              config=Config(signature_version='oauth'),\n                              endpoint_url=credentials_1['ENDPOINT'])\n\n"
        }, 
        {
            "source": "## Setup Credentials for Watson Speech to Text\nGet the service credentials from your Watson Speech to Text instance by navigating to your IBM Cloud account, identifying the STT service instance you created and clicking on the Service Credentials in the left navigation column. Thecredentials will look as follows:\n\n```\ncredentials_stt = {\n  \"apikey\": \"#####\",\n  \"iam_apikey_description\": \"#############\",\n  \"iam_apikey_name\": \"##########\",\n  \"iam_role_crn\": \"#########\",\n  \"iam_serviceid_crn\": \"#####\",\n  \"url\": \"#######\"\n}\n```", 
            "cell_type": "markdown", 
            "metadata": {}
        }, 
        {
            "execution_count": 6, 
            "cell_type": "code", 
            "metadata": {}, 
            "outputs": [], 
            "source": "# The code was removed by Watson Studio for sharing."
        }, 
        {
            "source": "### Functions to Prcess Audio Files\nNext, define a set of functions to process audio files.\n\nFollowing cell has two methods:\n - `get_transcript()` calls speech to text enpoint and generates a text transcript for you for a sample audio file.\n - `analyze_sample()` gets the sample object from cloud storage, calls get_transcript to fetch the tranccript, and saves your transcript in cloud storage as `<file_name>_text.json`.\n \nOGG, WAV FLAC, L16, MP3, MPEG formats are options for the IBM Watson STT service.  For the lab we use OGG samples. \n", 
            "cell_type": "markdown", 
            "metadata": {}
        }, 
        {
            "execution_count": 7, 
            "cell_type": "code", 
            "metadata": {}, 
            "outputs": [], 
            "source": "from ibm_watson import SpeechToTextV1\n\nspeech_to_text = SpeechToTextV1(\n    iam_apikey=credentials_stt['apikey'],\n    url=credentials_stt['url']\n)\n\n\n# OGG, WAV FLAC, L16, MP3, MPEG formats are options for the STT service \n# with Narrowband (generaly telco) and Broadband (e.g. higher quality USB mic) audio.  \n# For the LAB \u2013 OGG format was used for sample files in lab. Of other audio formats e.g. WAV - remember to change 'OGG' content_type='audio/ogg' in code below if you do.\n\n#get transcript Very basic one\ndef get_transcript(audio):\n    transcript = json.dumps(speech_to_text.recognize(audio=audio, content_type='audio/ogg', timestamps=True,\n        word_confidence=True).get_result(), indent=2)\n    return transcript\n\ndef download_file(path, filename):\n    url = path + filename\n    print(url)\n    r = requests.get(url, stream=True)\n    return r.content\n\ndef analyze_sample(sample):\n    #streaming_body = client_global.get_object(Bucket = credentials_audio_samples['BUCKET'], Key=sample)['Body'] #http\n    streaming_body = cos_client.get_object(Bucket = credentials_1['BUCKET'], Key=sample)['Body'] #http\n    audio = streaming_body.read()\n    text = get_transcript(audio)\n    cos_client.put_object(Bucket = credentials_1['BUCKET'], Key = sample.split('.')[0] + '_text.json', Body = text)\n    return text\n\ndef visualize(transcript):\n    for result in json.loads(transcript)['results']:\n        print(result['alternatives'][0]['transcript'], result['alternatives'][0]['confidence'])   "
        }, 
        {
            "source": "file_list provides list of audio file in an array, each OGG file produces its own transcript.\n\n- Samples 1,2,3,4,5 are short - about 2 minutes \n- Samples 6 and 7 are about 7 minutes (the STT SERVICE WILL NEED TIME TO PROCESS)\n", 
            "cell_type": "markdown", 
            "metadata": {}
        }, 
        {
            "execution_count": 8, 
            "cell_type": "code", 
            "metadata": {}, 
            "outputs": [], 
            "source": "file_list = ['sample1-addresschange-positive.ogg',\n             'sample2-address-negative.ogg',\n             'sample3-shirt-return-weather-chitchat.ogg',\n             'sample4-angryblender-sportschitchat-recovery.ogg',\n             'sample5-calibration-toneandcontext.ogg',\n             'jfk_1961_0525_speech_to_put_man_on_moon.ogg',\n             'May 1 1969 Fred Rogers testifies before the Senate Subcommittee on Communications.ogg']\n\nfile_list = ['sample1-addresschange-positive.ogg']\n\n"
        }, 
        {
            "execution_count": 9, 
            "cell_type": "code", 
            "metadata": {}, 
            "outputs": [
                {
                    "output_type": "stream", 
                    "name": "stdout", 
                    "text": "good morning  0.97\ncan you give me some help I'd like to change my address please  0.98\nmy name is Ryan Smith  0.99\nI am from Sacramento California  0.95\nthat's right  0.96\nmy phone number is five five five one two one two  0.92\nyes that's me  0.97\nmy old address is number one two three oak street  0.97\nmy new address is five six seven pine street  0.93\nyes and the zip is nine eight zero two one zero  0.94\nyep that's right  0.81\nno the phone number stays the same  0.88\nthat's right I would like to keep all the options of said no other changes the only thing that I want to change is the address  0.93\nyes that's right  0.97\nyep  0.55\nvery good yeah thank you so much for help  0.88\nthanks have a good day bye bye  0.91\n"
                }
            ], 
            "source": "# TRANSCRIBE \u2013 this is where STT receives the OGG files provided and returns text to TRANSCRIPT\n# this is a test of ONE transcription in the list - place '0' - may take a minute\ntranscript = analyze_sample(file_list[0])\nvisualize(transcript)"
        }, 
        {
            "source": "## STT Transcription for ALL Files\nRun STT on all audio files to generate *json file to capture the transcripts", 
            "cell_type": "markdown", 
            "metadata": {}
        }, 
        {
            "execution_count": 10, 
            "cell_type": "code", 
            "metadata": {}, 
            "outputs": [
                {
                    "output_type": "stream", 
                    "name": "stdout", 
                    "text": "Processing file:  sample1-addresschange-positive.ogg\ngood morning  0.97\ncan you give me some help I'd like to change my address please  0.98\nmy name is Ryan Smith  0.99\nI am from Sacramento California  0.95\nthat's right  0.96\nmy phone number is five five five one two one two  0.92\nyes that's me  0.97\nmy old address is number one two three oak street  0.97\nmy new address is five six seven pine street  0.93\nyes and the zip is nine eight zero two one zero  0.94\nyep that's right  0.81\nno the phone number stays the same  0.88\nthat's right I would like to keep all the options of said no other changes the only thing that I want to change is the address  0.93\nyes that's right  0.97\nyep  0.55\nvery good yeah thank you so much for help  0.88\nthanks have a good day bye bye  0.91\n"
                }
            ], 
            "source": "for filename in file_list:\n    print('Processing file: ', filename)\n    transcript = analyze_sample(filename)\n    visualize(transcript)"
        }, 
        {
            "execution_count": 11, 
            "cell_type": "code", 
            "metadata": {}, 
            "outputs": [], 
            "source": "#"
        }, 
        {
            "source": "# Step 2 - NLU\nIn this step, we run NLU on the transcript extracted in the previous step.\n\nFirst, create Natural Language Understanding service (IBM Cloud Catalog) and add the service credentials in the next cell. The credentials will look as follows:\n```\ncredentials_nlu = {\n  \"apikey\": \"#######,\n  \"iam_apikey_description\": \"###########\",\n  \"iam_apikey_name\": \"###########\",\n  \"iam_role_crn\": \"############\",\n  \"iam_serviceid_crn\": \"#############\",\n  \"url\": \"###############\"\n}\n```\n", 
            "cell_type": "markdown", 
            "metadata": {}
        }, 
        {
            "execution_count": 12, 
            "cell_type": "code", 
            "metadata": {}, 
            "outputs": [], 
            "source": "# The code was removed by Watson Studio for sharing."
        }, 
        {
            "source": "The next cell defines some functions to call NLU. Add the missing code to define the NLU python object by calling the Watson Python SDK.", 
            "cell_type": "markdown", 
            "metadata": {}
        }, 
        {
            "execution_count": 13, 
            "cell_type": "code", 
            "metadata": {}, 
            "outputs": [], 
            "source": "\n## START ADDING CODE\n\nfrom ibm_watson import NaturalLanguageUnderstandingV1\n\nfrom ibm_watson.natural_language_understanding_v1 \\\n    import Features, EntitiesOptions, KeywordsOptions\n\nnatural_language_understanding = NaturalLanguageUnderstandingV1(\n    version='2019-07-12',\n    iam_apikey=credentials_nlu['apikey'],\n    url=credentials_nlu['url'])\n\n#### END ADDING CODE\n\n\nchunk_size=25 # This CHUNK size is used to disaggregate a transcript \n#e.g. in this case a 290 word transcript would have 10 chunks - 9 with 30 words and 1 with 20 words - approximates 'time domain' for this lab\n\ndef chunk_transcript_nlu(transcript, chunk_size):\n    transcript = transcript.split(' ')\n    return [ transcript[i:i+chunk_size] for i in range(0, len(transcript), chunk_size) ] # chunking data\n\ndef process_text_nlu(text):\n    transcript=''\n    for sentence in json.loads(text)['results']:\n        transcript = transcript + sentence['alternatives'][0]['transcript'] # concatenate sentences\n    #transcript = chunk_transcript(transcript, chunk_size) # chunk the transcript\n    return [transcript]\n\n\ndef analyze_transcript_nlu(features, file_name):\n    streaming_body = cos_client.get_object(Bucket = credentials_1['BUCKET'], Key=file_name.split('.')[0]+'_text.json')['Body']\n    transcript=streaming_body.read().decode(\"utf-8\")\n    nlu_analysis={}\n    for chunk in process_text_nlu(transcript):\n        #chunk = ' '.join(chunk)\n        nlu_analysis[chunk] = natural_language_understanding.analyze(features, chunk, return_analyzed_text=True).get_result()\n    res=cos_client.put_object(Bucket = credentials_1['BUCKET'], Key=file_name.split('.')[0]+'_NLU.json', Body= json.dumps(nlu_analysis))\n    return nlu_analysis\n\ndef post_analysis_nlu(result):\n    for chunk in result.keys():\n        categories = result[chunk]['categories']\n        print('\\nchunk: ', chunk)\n        for category in categories:\n            print('label: ', category['label'], ', score: ', category['score']) #add table instead of prints"
        }, 
        {
            "execution_count": 14, 
            "cell_type": "code", 
            "metadata": {}, 
            "outputs": [
                {
                    "output_type": "stream", 
                    "name": "stdout", 
                    "text": "\nchunk:  good morning can you give me some help I'd like to change my address please my name is Ryan Smith I am from Sacramento California that's right my phone number is five five five one two one two yes that's me my old address is number one two three oak street my new address is five six seven pine street yes and the zip is nine eight zero two one zero yep that's right no the phone number stays the same that's right I would like to keep all the options of said no other changes the only thing that I want to change is the address yes that's right yep very good yeah thank you so much for help thanks have a good day bye bye \nlabel:  /business and industrial/business operations/business plans , score:  0.601661\nlabel:  /sports/go kart , score:  0.57272\nlabel:  /law, govt and politics , score:  0.568343\n"
                }
            ], 
            "source": "features = {\"concepts\":{},\"entities\":{},\"keywords\":{},\"categories\":{},\"emotion\":{},\"sentiment\":{},\"semantic_roles\":{} }\nresult = analyze_transcript_nlu(features, file_list[0])\n\npost_analysis_nlu(result)"
        }, 
        {
            "source": "In the next cell, add code to repeat for the other files in the list", 
            "cell_type": "markdown", 
            "metadata": {}
        }, 
        {
            "execution_count": 15, 
            "cell_type": "code", 
            "metadata": {}, 
            "outputs": [
                {
                    "output_type": "stream", 
                    "name": "stdout", 
                    "text": "processing file:  sample1-addresschange-positive.ogg\n"
                }
            ], 
            "source": "## START ADDING CODE\nfor f in file_list:\n    print(\"processing file: \", f)\n    results = analyze_transcript_nlu(features, f)\n\n## END ADDING CODE"
        }, 
        {
            "source": "# Step 3 - Tone Analyzer\n\nhttps://www.ibm.com/watson/developercloud/tone-analyzer.html https://www.ibm.com/watson/developercloud/tone-analyzer/api/v3/\n\nTone Analyzer service uses linguistic analysis to detect emotional and language tones in written text.\n\nTo create a TONE endpoint - https://console.bluemix.net/developer/watson/dashboard LITE Plan for Tone is free\n\nTone Analyzer Signals\nA comma-separated list of tones for which the service is to return its analysis of the input. The indicated tones apply both to the full document and to individual sentences of the document. You can specify one or more of the following values: emotion language social\n\n2016-05-19: The service can return results for the following tone IDs of the different categories: For the emotion category: anger, disgust, fear, joy, sadness For the language category: analytical, confident, tentative For the social category: openness_big5, conscientiousness_big5, extraversion_big5, agreeableness_big5, emotional_range_big5 The service returns scores for all tones of a category, regardless of their values.\n\n2017-09-21: The service can return results for the following tone IDs: anger, fear, joy, sadness, analytical, confident, and tentative. The service returns results only for tones whose scores meet a minimum threshold of 0.5.\n\nIf Tone Chat Score is used - these are the signals produced sad frustrated satisfied excited polite impolite sympathetic\n\nIn the next cell, add credentials for Tone Analyzer service.\n```\n{\n  \"apikey\": \"#########\",\n  \"iam_apikey_description\": \"############\",\n  \"iam_apikey_name\": \"#############\",\n  \"iam_role_crn\": \"##################\",\n  \"iam_serviceid_crn\": \"###############\",\n  \"url\": \"#############\"\n}\n```\n", 
            "cell_type": "markdown", 
            "metadata": {}
        }, 
        {
            "execution_count": 17, 
            "cell_type": "code", 
            "metadata": {}, 
            "outputs": [], 
            "source": "# The code was removed by Watson Studio for sharing."
        }, 
        {
            "execution_count": null, 
            "cell_type": "code", 
            "metadata": {}, 
            "outputs": [], 
            "source": ""
        }, 
        {
            "execution_count": 20, 
            "cell_type": "code", 
            "metadata": {}, 
            "outputs": [], 
            "source": "########\n## START ADDING CODE\n\nfrom ibm_watson import ToneAnalyzerV3\n\ntone_analyzer = ToneAnalyzerV3(\n    version='2017-09-21',\n    iam_apikey=credentials_ta['apikey'],\n    url=credentials_ta['url']\n)\n\n#### END ADDING CODE\n\n\nchunk_size=25\n\ndef chunk_transcript_ta(transcript, chunk_size):\n    transcript = transcript.split(' ')\n    return [ transcript[i:i+chunk_size] for i in range(0, len(transcript), chunk_size) ] # chunking data\n    \n\ndef process_text_ta(text):\n    transcript=''\n    for sentence in json.loads(text)['results']:\n        transcript = transcript + sentence['alternatives'][0]['transcript'] # concatenate sentences\n    transcript = chunk_transcript_ta(transcript, chunk_size) # chunk the transcript\n    return transcript\n\n\ndef analyze_transcript_ta(file_name):\n    transcript = cos_client.get_object(Bucket = credentials_1['BUCKET'], Key = file_name.split('.')[0]+'_text.json')['Body']\n    transcript = transcript.read().decode(\"utf-8\")\n    tone_analysis={}\n    for chunk in process_text_ta(transcript):\n        chunk = ' '.join(chunk)\n        tone_analysis[chunk] = tone_analyzer.tone(chunk, content_type='text/plain').get_result()\n    res=cos_client.put_object(Bucket = credentials_1['BUCKET'], Key= file_name.split('.')[0]+'_tone.json', Body = json.dumps(tone_analysis))\n    return tone_analysis\n\ndef print_tones_ta(tones):\n    for tone in tones:\n        print(tone) ## note for self: update this and show table instead\n\ndef post_analysis_ta(result):\n    for chunk in result.keys():\n        tone_categories = result[chunk]['document_tone']['tones']\n        print('\\nchunk: ', chunk)\n        print_tones_ta(tone_categories) #add table instead of prints"
        }, 
        {
            "execution_count": 21, 
            "cell_type": "code", 
            "metadata": {}, 
            "outputs": [
                {
                    "output_type": "stream", 
                    "name": "stdout", 
                    "text": "\nchunk:  good morning can you give me some help I'd like to change my address please my name is Ryan Smith I am from Sacramento California\n{'score': 0.594263, 'tone_id': 'tentative', 'tone_name': 'Tentative'}\n\nchunk:  that's right my phone number is five five five one two one two yes that's me my old address is number one two three oak\n\nchunk:  street my new address is five six seven pine street yes and the zip is nine eight zero two one zero yep that's right no\n\nchunk:  the phone number stays the same that's right I would like to keep all the options of said no other changes the only thing that\n\nchunk:  I want to change is the address yes that's right yep very good yeah thank you so much for help thanks have a good day\n{'score': 0.525926, 'tone_id': 'confident', 'tone_name': 'Confident'}\n\nchunk:  bye bye \n"
                }
            ], 
            "source": "result = analyze_transcript_ta(file_list[0])\npost_analysis_ta(result)"
        }, 
        {
            "source": "# Step 4 - Analytics & Dashboard\n", 
            "cell_type": "markdown", 
            "metadata": {}
        }, 
        {
            "source": "## 4.1 - Visualize Sentiment and Top Keywords using Watson NLU response\nDefine the function to parse Watson NLU json response and extract sentiment score, sentiment label, and keywords.\n\n", 
            "cell_type": "markdown", 
            "metadata": {}
        }, 
        {
            "execution_count": 22, 
            "cell_type": "code", 
            "metadata": {}, 
            "outputs": [], 
            "source": "# Method to parse NLU response file from Cloud Object Storage\n# and return sentiment score, sentiment label, and keywords\ndef getNLUresponse(COSclient, bucket, filename):\n    streaming_body = COSclient.get_object(Bucket=bucket, Key=filename)['Body']\n    nlu_chunks_response = json.loads(streaming_body.read().decode(\"utf-8\"))\n    for chunk in nlu_chunks_response:\n        nlu_response = nlu_chunks_response[chunk]\n        if nlu_response and nlu_response['sentiment'] \\\n        and nlu_response['sentiment']['document'] and nlu_response['sentiment']['document']['label']:\n            sentiment_score = nlu_response['sentiment']['document']['score']\n            sentiment_label = nlu_response['sentiment']['document']['label']\n            keywords = list(nlu_response['keywords'])\n        else:\n            sentiment_score = 0.0\n            sentiment_label = None\n            keywords = null\n        \n    return (filename,sentiment_score,sentiment_label,keywords)"
        }, 
        {
            "execution_count": 23, 
            "cell_type": "code", 
            "metadata": {}, 
            "outputs": [
                {
                    "output_type": "stream", 
                    "name": "stdout", 
                    "text": "Processing NLU response from file:  sample1-addresschange-positive_NLU.json\n"
                }
            ], 
            "source": "# Read enriched files from Cloud Object Storage\n# Provide list of files saved in COS that include NLU response\nnlu_files = ['sample1-addresschange-positive_NLU.json',\n             'sample2-address-negative_NLU.json',\n             'sample3-shirt-return-weather-chitchat_NLU.json',\n             'sample4-angryblender-sportschitchat-recovery_NLU.json',\n             'sample5-calibration-toneandcontext_NLU.json',\n             'sample6-jfk-1961-0525-speech-to-put-man-on-moon_NLU.json',\n             'sample7-FredRogers_NLU.json']\n\nnlu_files = ['sample1-addresschange-positive_NLU.json']\nnlu_header=['filename','sentiment_score','sentiment_label','keywords']\nnlu_results = []\nbucket = credentials_1['BUCKET']\nfor filename in nlu_files:\n    print(\"Processing NLU response from file: \", filename)\n    nlu_results.append(getNLUresponse(cos_client,bucket,filename))"
        }, 
        {
            "source": "Map the parsed NLU responses into a Spark dataframe, one record for each file, where each file is the NLU response for one call center record.\n\n", 
            "cell_type": "markdown", 
            "metadata": {}
        }, 
        {
            "execution_count": 33, 
            "cell_type": "code", 
            "metadata": {}, 
            "outputs": [], 
            "source": "import matplotlib.pyplot as plt\nfrom pyspark.sql import SparkSession\nfrom pyspark.sql import functions as F\nfrom pyspark.sql.functions import col\nfrom pyspark.sql.functions import udf\nfrom pyspark.sql.types import StringType\n\nimport pixiedust\n"
        }, 
        {
            "execution_count": 25, 
            "cell_type": "code", 
            "metadata": {}, 
            "outputs": [], 
            "source": "\nspark = SparkSession.builder.getOrCreate()"
        }, 
        {
            "execution_count": 26, 
            "cell_type": "code", 
            "metadata": {}, 
            "outputs": [], 
            "source": "callcenterlogs_nluDF = spark.createDataFrame(nlu_results, nlu_header)"
        }, 
        {
            "execution_count": 27, 
            "cell_type": "code", 
            "metadata": {}, 
            "outputs": [
                {
                    "output_type": "stream", 
                    "name": "stdout", 
                    "text": "<class 'pyspark.sql.dataframe.DataFrame'>\nroot\n |-- filename: string (nullable = true)\n |-- sentiment_score: double (nullable = true)\n |-- sentiment_label: string (nullable = true)\n |-- keywords: array (nullable = true)\n |    |-- element: map (containsNull = true)\n |    |    |-- key: string\n |    |    |-- value: string (valueContainsNull = true)\n\n+--------------------+---------------+---------------+--------------------+\n|            filename|sentiment_score|sentiment_label|            keywords|\n+--------------------+---------------+---------------+--------------------+\n|sample1-addressch...|       0.854196|       positive|[[count -> 2, tex...|\n+--------------------+---------------+---------------+--------------------+\n\n"
                }
            ], 
            "source": "# Common validation calls\nprint(type(callcenterlogs_nluDF))\ncallcenterlogs_nluDF.printSchema()\ncallcenterlogs_nluDF.show()"
        }, 
        {
            "source": "**Sentiment plots using PixieDust**\nLeverage PixieDust to plot sentiment labels as a pie-chart showing how many positive, negative, and neutral calls are received.", 
            "cell_type": "markdown", 
            "metadata": {}
        }, 
        {
            "execution_count": 28, 
            "cell_type": "code", 
            "metadata": {}, 
            "outputs": [
                {
                    "output_type": "stream", 
                    "name": "stdout", 
                    "text": "+---------------+---------+\n|sentiment_label|num_calls|\n+---------------+---------+\n|       positive|        1|\n+---------------+---------+\n\n"
                }
            ], 
            "source": "## Ignore any records with null sentiment label\ncallcenterlogs_nluDF = callcenterlogs_nluDF.where(col('sentiment_label').isNotNull())\nperlabel_sentimentDF = callcenterlogs_nluDF.groupBy('sentiment_label')\\\n                              .agg(F.count('filename')\\\n                              .alias('num_calls'))\n\n## Take a look\nperlabel_sentimentDF.show()"
        }, 
        {
            "source": "pixiedust gives an error if I only load the pyspark libraries and not run on a Spark cluster. If you can run on a Spark Cluster, the next cell should work. If it does not, try to use matplotlib to do the plotting.", 
            "cell_type": "markdown", 
            "metadata": {}
        }, 
        {
            "execution_count": 29, 
            "cell_type": "code", 
            "metadata": {}, 
            "outputs": [
                {
                    "ename": "NameError", 
                    "evalue": "name 'PySparkDataFrameDataHandler' is not defined", 
                    "traceback": [
                        "\u001b[0;31m---------------------------------------------------------------------------\u001b[0m", 
                        "\u001b[0;31mNameError\u001b[0m                                 Traceback (most recent call last)", 
                        "\u001b[0;32m<ipython-input-29-065ecd315242>\u001b[0m in \u001b[0;36m<module>\u001b[0;34m\u001b[0m\n\u001b[1;32m      1\u001b[0m \u001b[0;31m# Call Pixiedust to visualize sentiment data\u001b[0m\u001b[0;34m\u001b[0m\u001b[0;34m\u001b[0m\u001b[0;34m\u001b[0m\u001b[0m\n\u001b[0;32m----> 2\u001b[0;31m \u001b[0mdisplay\u001b[0m\u001b[0;34m(\u001b[0m\u001b[0mcallcenterlogs_nluDF\u001b[0m\u001b[0;34m)\u001b[0m\u001b[0;34m\u001b[0m\u001b[0;34m\u001b[0m\u001b[0m\n\u001b[0m", 
                        "\u001b[0;32m/opt/conda/envs/Python36/lib/python3.6/site-packages/pixiedust/display/__init__.py\u001b[0m in \u001b[0;36mdisplay\u001b[0;34m(entity, **kwargs)\u001b[0m\n\u001b[1;32m    108\u001b[0m \u001b[0;34m\u001b[0m\u001b[0m\n\u001b[1;32m    109\u001b[0m             \u001b[0;31m#get a datahandler and displayhandler for this entity\u001b[0m\u001b[0;34m\u001b[0m\u001b[0;34m\u001b[0m\u001b[0;34m\u001b[0m\u001b[0m\n\u001b[0;32m--> 110\u001b[0;31m             \u001b[0mdataHandler\u001b[0m \u001b[0;34m=\u001b[0m \u001b[0mgetDataHandler\u001b[0m\u001b[0;34m(\u001b[0m\u001b[0mkwargs\u001b[0m\u001b[0;34m,\u001b[0m \u001b[0mentity\u001b[0m\u001b[0;34m)\u001b[0m\u001b[0;34m\u001b[0m\u001b[0;34m\u001b[0m\u001b[0m\n\u001b[0m\u001b[1;32m    111\u001b[0m             \u001b[0mselectedHandler\u001b[0m \u001b[0;34m=\u001b[0m \u001b[0mgetSelectedHandler\u001b[0m\u001b[0;34m(\u001b[0m\u001b[0mkwargs\u001b[0m\u001b[0;34m,\u001b[0m \u001b[0mentity\u001b[0m\u001b[0;34m,\u001b[0m \u001b[0mdataHandler\u001b[0m\u001b[0;34m)\u001b[0m\u001b[0;34m\u001b[0m\u001b[0;34m\u001b[0m\u001b[0m\n\u001b[1;32m    112\u001b[0m \u001b[0;34m\u001b[0m\u001b[0m\n", 
                        "\u001b[0;32m/opt/conda/envs/Python36/lib/python3.6/site-packages/pixiedust/display/datahandler/__init__.py\u001b[0m in \u001b[0;36mgetDataHandler\u001b[0;34m(options, entity)\u001b[0m\n\u001b[1;32m     29\u001b[0m \u001b[0;32mdef\u001b[0m \u001b[0mgetDataHandler\u001b[0m\u001b[0;34m(\u001b[0m\u001b[0moptions\u001b[0m\u001b[0;34m,\u001b[0m \u001b[0mentity\u001b[0m\u001b[0;34m)\u001b[0m\u001b[0;34m:\u001b[0m\u001b[0;34m\u001b[0m\u001b[0;34m\u001b[0m\u001b[0m\n\u001b[1;32m     30\u001b[0m     \u001b[0;32mif\u001b[0m \u001b[0mdataFrameMisc\u001b[0m\u001b[0;34m.\u001b[0m\u001b[0misPySparkDataFrame\u001b[0m\u001b[0;34m(\u001b[0m\u001b[0mentity\u001b[0m\u001b[0;34m)\u001b[0m\u001b[0;34m:\u001b[0m\u001b[0;34m\u001b[0m\u001b[0;34m\u001b[0m\u001b[0m\n\u001b[0;32m---> 31\u001b[0;31m         \u001b[0;32mreturn\u001b[0m \u001b[0mPySparkDataFrameDataHandler\u001b[0m\u001b[0;34m(\u001b[0m\u001b[0moptions\u001b[0m\u001b[0;34m,\u001b[0m \u001b[0mentity\u001b[0m\u001b[0;34m)\u001b[0m\u001b[0;34m\u001b[0m\u001b[0;34m\u001b[0m\u001b[0m\n\u001b[0m\u001b[1;32m     32\u001b[0m     \u001b[0;32melif\u001b[0m \u001b[0mdataFrameMisc\u001b[0m\u001b[0;34m.\u001b[0m\u001b[0misPandasDataFrame\u001b[0m\u001b[0;34m(\u001b[0m\u001b[0mentity\u001b[0m\u001b[0;34m)\u001b[0m\u001b[0;34m:\u001b[0m\u001b[0;34m\u001b[0m\u001b[0;34m\u001b[0m\u001b[0m\n\u001b[1;32m     33\u001b[0m         \u001b[0;32mreturn\u001b[0m \u001b[0mPandasDataFrameDataHandler\u001b[0m\u001b[0;34m(\u001b[0m\u001b[0moptions\u001b[0m\u001b[0;34m,\u001b[0m \u001b[0mentity\u001b[0m\u001b[0;34m)\u001b[0m\u001b[0;34m\u001b[0m\u001b[0;34m\u001b[0m\u001b[0m\n", 
                        "\u001b[0;31mNameError\u001b[0m: name 'PySparkDataFrameDataHandler' is not defined"
                    ], 
                    "output_type": "error"
                }
            ], 
            "source": "# Call Pixiedust to visualize sentiment data\ndisplay(callcenterlogs_nluDF)"
        }, 
        {
            "source": "**Keywords visualization using Word Cloud**\n\nNext, we process the NLU keywords results to understand what are the top keywords referenced in the call center interactions. This would be very helpful in delivering insights what are the main topics being referenced in these call center interactions.", 
            "cell_type": "markdown", 
            "metadata": {}
        }, 
        {
            "execution_count": 30, 
            "cell_type": "code", 
            "metadata": {}, 
            "outputs": [
                {
                    "output_type": "stream", 
                    "name": "stderr", 
                    "text": "/opt/conda/envs/Python36/lib/python3.6/site-packages/pyspark/sql/session.py:366: UserWarning: Using RDD of dict to inferSchema is deprecated. Use pyspark.sql.Row instead\n  warnings.warn(\"Using RDD of dict to inferSchema is deprecated. \"\n"
                }
            ], 
            "source": "from pyspark.sql.functions import explode\n\n# Explode keywords\ncallcenterlogs_nluDF = callcenterlogs_nluDF.select(explode('keywords').alias('topkeywords'))\ncallcenterlogs_nluDF = callcenterlogs_nluDF.select('topkeywords').rdd.map(lambda row: row[0]).toDF()"
        }, 
        {
            "execution_count": 31, 
            "cell_type": "code", 
            "metadata": {}, 
            "outputs": [
                {
                    "execution_count": 31, 
                    "metadata": {}, 
                    "data": {
                        "text/plain": "[Row(count='2', relevance='0.876804', text='phone number'),\n Row(count='1', relevance='0.869802', text='good morning'),\n Row(count='1', relevance='0.731882', text='right yep'),\n Row(count='1', relevance='0.701024', text='Sacramento California')]"
                    }, 
                    "output_type": "execute_result"
                }
            ], 
            "source": "callcenterlogs_nluDF.head(4)"
        }, 
        {
            "execution_count": 34, 
            "cell_type": "code", 
            "metadata": {}, 
            "outputs": [], 
            "source": "# UDF to return lower case of word\ndef toLowerCase(word):\n    return word.lower()\n\n\n# Process extracted keywords to change to lower case\nudfLowerCase = udf(toLowerCase, StringType())\ncallcenterlogsTopKeywordsDF = callcenterlogs_nluDF.withColumn('topkeywords',udfLowerCase('text'))"
        }, 
        {
            "execution_count": 35, 
            "cell_type": "code", 
            "metadata": {}, 
            "outputs": [], 
            "source": "# Group by topkeywords and compute average relevance per keyword and also number of calls for each keyword\ncallcenterlogsKwdsNumDF = callcenterlogsTopKeywordsDF.groupBy('topkeywords')\\\n                              .agg(F.count('topkeywords').alias('kwdsnumcalls'))\ncallcenterlogsKwdsRelDF = callcenterlogsTopKeywordsDF.groupBy('topkeywords')\\\n                          .agg(F.avg('relevance').alias('kwdsavgrelevance'))"
        }, 
        {
            "execution_count": 36, 
            "cell_type": "code", 
            "metadata": {}, 
            "outputs": [], 
            "source": "# join the keywords nunber and keywords relevance dataframes into one\ncallcenterlogsKeywordsDF = callcenterlogsKwdsNumDF.join(callcenterlogsKwdsRelDF,'topkeywords','outer')\n\n# Define keyword score as product of number of calls expressing that keyword and average relevance of that keyword\ncallcenterlogsKeywordsDF = callcenterlogsKeywordsDF.withColumn('keyword_score',callcenterlogsKeywordsDF.kwdsnumcalls * callcenterlogsKeywordsDF.kwdsavgrelevance)\n\n# Sort dataframe in descending order of KEYWORD_SCORE\ncallcenterlogsKeywordsDF = callcenterlogsKeywordsDF.orderBy('keyword_score',ascending=False)\n\n# Remove None keywords\ncallcenterlogsKeywordsDF = callcenterlogsKeywordsDF.where(col('topkeywords').isNotNull())"
        }, 
        {
            "execution_count": 37, 
            "cell_type": "code", 
            "metadata": {}, 
            "outputs": [
                {
                    "output_type": "stream", 
                    "name": "stdout", 
                    "text": "Top Keywords from call center logs\n+--------------------+------------+----------------+-------------+\n|         topkeywords|kwdsnumcalls|kwdsavgrelevance|keyword_score|\n+--------------------+------------+----------------+-------------+\n|        phone number|           1|        0.876804|     0.876804|\n|        good morning|           1|        0.869802|     0.869802|\n|           right yep|           1|        0.731882|     0.731882|\n|sacramento califo...|           1|        0.701024|     0.701024|\n|         pine street|           1|        0.692283|     0.692283|\n|             address|           1|        0.608247|     0.608247|\n|         old address|           1|        0.605619|     0.605619|\n|          oak street|           1|        0.605091|     0.605091|\n|             changes|           1|        0.584982|     0.584982|\n|                help|           1|        0.550283|     0.550283|\n|              number|           1|        0.540458|     0.540458|\n|             options|           1|        0.532299|     0.532299|\n|         new address|           1|        0.532117|     0.532117|\n|                name|           1|        0.532077|     0.532077|\n|                 zip|           1|        0.529506|     0.529506|\n|    good day bye bye|           1|        0.518728|     0.518728|\n|          ryan smith|           1|        0.514359|     0.514359|\n|          only thing|           1|        0.512335|     0.512335|\n|         help thanks|           1|        0.460209|     0.460209|\n+--------------------+------------+----------------+-------------+\n\n"
                }
            ], 
            "source": "print(\"Top Keywords from call center logs\")\ncallcenterlogsKeywordsDF.show()"
        }, 
        {
            "execution_count": 38, 
            "cell_type": "code", 
            "metadata": {}, 
            "outputs": [], 
            "source": "# Map to Pandas DataFrame\ncallcenterlogsKeywordsPandas = callcenterlogsKeywordsDF.toPandas()"
        }, 
        {
            "execution_count": 39, 
            "cell_type": "code", 
            "metadata": {}, 
            "outputs": [], 
            "source": "from wordcloud import WordCloud\n\n# Process Pandas DataFrame in the right format to leverage wordcloud.py for plotting\n# See documentation: https://github.com/amueller/word_cloud/blob/master/wordcloud/wordcloud.py \ndef prepForWordCloud(pandasDF,n):\n    kwdList = pandasDF['topkeywords']\n    sizeList = pandasDF['keyword_score']\n    kwdSize = {}\n    for i in range(n):\n        kwd=kwdList[i]\n        size=sizeList[i]\n        kwdSize[kwd] = size\n    return kwdSize"
        }, 
        {
            "execution_count": 40, 
            "cell_type": "code", 
            "metadata": {}, 
            "outputs": [], 
            "source": "perlabelSentimentDF = perlabel_sentimentDF.toPandas()\n\nplot_labels = perlabelSentimentDF['sentiment_label']\nplot_values = perlabelSentimentDF['num_calls']\nplot_colors = ['green', 'gray', 'red']\n"
        }, 
        {
            "execution_count": 43, 
            "cell_type": "code", 
            "metadata": {}, 
            "outputs": [
                {
                    "output_type": "display_data", 
                    "data": {
                        "image/png": "[encoded data removed]", 
                        "text/plain": "<Figure size 1080x1080 with 1 Axes>"
                    }, 
                    "metadata": {
                        "needs_background": "light"
                    }
                }
            ], 
            "source": "%matplotlib inline\nmaxWords = len(callcenterlogsKeywordsPandas)\nnWords = 5\n\n#Generating wordcloud. Relative scaling value is to adjust the importance of a frequency word.\n#See documentation: https://github.com/amueller/word_cloud/blob/master/wordcloud/wordcloud.py\ncallcenterlogsKwdFreq = prepForWordCloud(callcenterlogsKeywordsPandas,nWords)\ncallcenterlogsWordCloud = WordCloud(max_words=maxWords,relative_scaling=0,normalize_plurals=False).generate_from_frequencies(callcenterlogsKwdFreq)\n\n#plt.imshow(callcenterlogsWordCloud)\n\n# If need to support multiple side-by-side word clouds, use commented lines below\n\nfig, ax = plt.subplots(nrows = 1, ncols = 1, figsize = (15,15))\nax.imshow(callcenterlogsWordCloud)\n\n## Set titles for images\n#ax[0,0].set_title('Top Keywords from logs of call 1')\n#ax[0,1].set_title('Overall Sentiment')\n#ax[1,0].set_title('Top Keywords from logs of call 1')\n#ax[1,1].set_title('Top Keywords from logs of call 2')\n\n                \n## Plot word clouds\n#ax[0,0].imshow(callcenterlogsWordCloud)\n#ax[0,1].pie(plot_values, labels = plot_labels, colors = plot_colors, autopct = '%1.1f%%')\n#ax[1,0].imshow(callcenterlogsWordCloud)\n#ax[1,1].imshow(callcenterlogsWordCloud)\n\n# turn off axis and ticks\nplt.axis(\"off\")\n#ax[0,0].tick_params(axis='both',which='both',bottom='off',top='off',left='off',right='off',\n#                 labelbottom='off',labeltop='off',labelleft='off',labelright='off') \n#ax[0,1].tick_params(axis='both',which='both',bottom='off',top='off',left='off',right='off',\n#                labelbottom='off',labeltop='off',labelleft='off',labelright='off') \n#ax[1,0].tick_params(axis='both',which='both',bottom='off',top='off',left='off',right='off',\n#                 labelbottom='off',labeltop='off',labelleft='off',labelright='off') \n#ax[1,1].tick_params(axis='both',which='both',bottom='off',top='off',left='off',right='off',\n#                 labelbottom='off',labeltop='off',labelleft='off',labelright='off') \n\n\nplt.show()"
        }, 
        {
            "source": "**Step 4: Visualize Emotion Tone using Watson Tone Analyzer response**\n\nDefine the function to parse Watson Tone Analyzer json response and extract emotion tone labels and scores.\n\n\nAdd code to visualize Emotion Tone (Refer to this notebook for some examples of how to do further visualization: https://github.com/mamoonraja/analyze-call-center-calls-with-watson/blob/master/notebooks/Step5-call-center-analytics.ipynb)", 
            "cell_type": "markdown", 
            "metadata": {}
        }, 
        {
            "execution_count": null, 
            "cell_type": "code", 
            "metadata": {}, 
            "outputs": [], 
            "source": ""
        }
    ], 
    "metadata": {
        "kernelspec": {
            "display_name": "Python 3.6", 
            "name": "python3", 
            "language": "python"
        }, 
        "language_info": {
            "mimetype": "text/x-python", 
            "nbconvert_exporter": "python", 
            "version": "3.6.8", 
            "name": "python", 
            "file_extension": ".py", 
            "pygments_lexer": "ipython3", 
            "codemirror_mode": {
                "version": 3, 
                "name": "ipython"
            }
        }
    }, 
    "nbformat": 4
}